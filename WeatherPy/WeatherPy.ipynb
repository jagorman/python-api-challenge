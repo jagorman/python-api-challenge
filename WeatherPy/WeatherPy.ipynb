{
 "cells": [
  {
   "cell_type": "markdown",
   "metadata": {},
   "source": [
    "# WeatherPy\n",
    "----\n",
    "\n",
    "#### Note\n",
    "* Instructions have been included for each segment. You do not have to follow them exactly, but they are included to help you think through the steps."
   ]
  },
  {
   "cell_type": "code",
   "execution_count": null,
   "metadata": {
    "scrolled": true
   },
   "outputs": [],
   "source": [
    "# Dependencies and Setup\n",
    "import matplotlib.pyplot as plt\n",
    "from urllib.error import HTTPError\n",
    "import openweathermapy as ow\n",
    "from pprint import pprint\n",
    "import pandas as pd\n",
    "import numpy as np\n",
    "import requests\n",
    "import time\n",
    "import os\n",
    "# Import API key\n",
    "from api_keys import weather_api_key\n",
    "\n",
    "# Incorporated citipy to determine city based on latitude and longitude\n",
    "from citipy import citipy\n",
    "\n",
    "# Output File (CSV)\n",
    "output_data_file = \"output_data/cities.csv\"\n",
    "\n",
    "# Range of latitudes and longitudes\n",
    "lat_range = (-90, 90)\n",
    "lng_range = (-180, 180)"
   ]
  },
  {
   "cell_type": "markdown",
   "metadata": {},
   "source": [
    "## Generate Cities List"
   ]
  },
  {
   "cell_type": "code",
   "execution_count": null,
   "metadata": {
    "scrolled": true
   },
   "outputs": [],
   "source": [
    "# List for holding lat_lngs and cities\n",
    "lat_lngs = []\n",
    "cities = []\n",
    "\n",
    "# Create a set of random lat and lng combinations\n",
    "lats = np.random.uniform(low=-90.000, high=90.000, size=1500)\n",
    "lngs = np.random.uniform(low=-180.000, high=180.000, size=1500)\n",
    "lat_lngs = zip(lats, lngs)\n",
    "\n",
    "# Identify nearest city for each lat, lng combination\n",
    "for lat_lng in lat_lngs:\n",
    "    city = citipy.nearest_city(lat_lng[0], lat_lng[1]).city_name\n",
    "    \n",
    "    # If the city is unique, then add it to a our cities list\n",
    "    if city not in cities:\n",
    "        cities.append(city)\n",
    "\n",
    "# Print the city count to confirm sufficient count\n",
    "len(cities)"
   ]
  },
  {
   "cell_type": "code",
   "execution_count": 78,
   "metadata": {
    "scrolled": true
   },
   "outputs": [],
   "source": []
  },
  {
   "cell_type": "code",
   "execution_count": null,
   "metadata": {},
   "outputs": [],
   "source": []
  },
  {
   "cell_type": "markdown",
   "metadata": {},
   "source": [
    "### Convert Raw Data to DataFrame\n",
    "* Export the city data into a .csv.\n",
    "* Display the DataFrame"
   ]
  },
  {
   "cell_type": "code",
   "execution_count": 71,
   "metadata": {},
   "outputs": [
    {
     "name": "stdout",
     "output_type": "stream",
     "text": [
      "Beginning Data Retrieval\n",
      "---------------------\n",
      "Processing City # 1 | grindavik\n",
      "http://api.openweathermap.org/data/2.5/weather?units=Imperial&APPID=4ffda9f58a9e8cecac2ca28d8d7b9634&q=grindavik\n",
      "Processing City # 2 | itapipoca\n",
      "http://api.openweathermap.org/data/2.5/weather?units=Imperial&APPID=4ffda9f58a9e8cecac2ca28d8d7b9634&q=itapipoca\n",
      "Processing City # 3 | hermanus\n",
      "http://api.openweathermap.org/data/2.5/weather?units=Imperial&APPID=4ffda9f58a9e8cecac2ca28d8d7b9634&q=hermanus\n",
      "Processing City # 4 | yellowknife\n",
      "http://api.openweathermap.org/data/2.5/weather?units=Imperial&APPID=4ffda9f58a9e8cecac2ca28d8d7b9634&q=yellowknife\n",
      "Processing City # 5 | ushuaia\n",
      "http://api.openweathermap.org/data/2.5/weather?units=Imperial&APPID=4ffda9f58a9e8cecac2ca28d8d7b9634&q=ushuaia\n",
      "Processing City # 6 | poya\n",
      "http://api.openweathermap.org/data/2.5/weather?units=Imperial&APPID=4ffda9f58a9e8cecac2ca28d8d7b9634&q=poya\n",
      "Processing City # 7 | hofn\n",
      "http://api.openweathermap.org/data/2.5/weather?units=Imperial&APPID=4ffda9f58a9e8cecac2ca28d8d7b9634&q=hofn\n",
      "Processing City # 8 | tasiilaq\n",
      "http://api.openweathermap.org/data/2.5/weather?units=Imperial&APPID=4ffda9f58a9e8cecac2ca28d8d7b9634&q=tasiilaq\n",
      "Processing City # 9 | qaanaaq\n",
      "http://api.openweathermap.org/data/2.5/weather?units=Imperial&APPID=4ffda9f58a9e8cecac2ca28d8d7b9634&q=qaanaaq\n",
      "Processing City # 10 | marcona\n",
      "http://api.openweathermap.org/data/2.5/weather?units=Imperial&APPID=4ffda9f58a9e8cecac2ca28d8d7b9634&q=marcona\n",
      "City not found. skipping...\n",
      "Processing City # 11 | constitucion\n",
      "http://api.openweathermap.org/data/2.5/weather?units=Imperial&APPID=4ffda9f58a9e8cecac2ca28d8d7b9634&q=constitucion\n",
      "Processing City # 12 | havoysund\n",
      "http://api.openweathermap.org/data/2.5/weather?units=Imperial&APPID=4ffda9f58a9e8cecac2ca28d8d7b9634&q=havoysund\n",
      "Processing City # 13 | kapaa\n",
      "http://api.openweathermap.org/data/2.5/weather?units=Imperial&APPID=4ffda9f58a9e8cecac2ca28d8d7b9634&q=kapaa\n",
      "Processing City # 14 | guerrero negro\n",
      "http://api.openweathermap.org/data/2.5/weather?units=Imperial&APPID=4ffda9f58a9e8cecac2ca28d8d7b9634&q=guerrero+negro\n",
      "Processing City # 15 | pollachi\n",
      "http://api.openweathermap.org/data/2.5/weather?units=Imperial&APPID=4ffda9f58a9e8cecac2ca28d8d7b9634&q=pollachi\n",
      "Processing City # 16 | bredasdorp\n",
      "http://api.openweathermap.org/data/2.5/weather?units=Imperial&APPID=4ffda9f58a9e8cecac2ca28d8d7b9634&q=bredasdorp\n",
      "Processing City # 17 | sassandra\n",
      "http://api.openweathermap.org/data/2.5/weather?units=Imperial&APPID=4ffda9f58a9e8cecac2ca28d8d7b9634&q=sassandra\n",
      "Processing City # 18 | diffa\n",
      "http://api.openweathermap.org/data/2.5/weather?units=Imperial&APPID=4ffda9f58a9e8cecac2ca28d8d7b9634&q=diffa\n",
      "Processing City # 19 | the valley\n",
      "http://api.openweathermap.org/data/2.5/weather?units=Imperial&APPID=4ffda9f58a9e8cecac2ca28d8d7b9634&q=the+valley\n",
      "Processing City # 20 | norman wells\n",
      "http://api.openweathermap.org/data/2.5/weather?units=Imperial&APPID=4ffda9f58a9e8cecac2ca28d8d7b9634&q=norman+wells\n",
      "Processing City # 21 | wawa\n",
      "http://api.openweathermap.org/data/2.5/weather?units=Imperial&APPID=4ffda9f58a9e8cecac2ca28d8d7b9634&q=wawa\n",
      "Processing City # 22 | nizhneyansk\n",
      "http://api.openweathermap.org/data/2.5/weather?units=Imperial&APPID=4ffda9f58a9e8cecac2ca28d8d7b9634&q=nizhneyansk\n",
      "City not found. skipping...\n",
      "Processing City # 23 | tuktoyaktuk\n",
      "http://api.openweathermap.org/data/2.5/weather?units=Imperial&APPID=4ffda9f58a9e8cecac2ca28d8d7b9634&q=tuktoyaktuk\n",
      "Processing City # 24 | gornyy\n",
      "http://api.openweathermap.org/data/2.5/weather?units=Imperial&APPID=4ffda9f58a9e8cecac2ca28d8d7b9634&q=gornyy\n",
      "Processing City # 25 | hilo\n",
      "http://api.openweathermap.org/data/2.5/weather?units=Imperial&APPID=4ffda9f58a9e8cecac2ca28d8d7b9634&q=hilo\n",
      "Processing City # 26 | bathsheba\n",
      "http://api.openweathermap.org/data/2.5/weather?units=Imperial&APPID=4ffda9f58a9e8cecac2ca28d8d7b9634&q=bathsheba\n",
      "Processing City # 27 | atuona\n",
      "http://api.openweathermap.org/data/2.5/weather?units=Imperial&APPID=4ffda9f58a9e8cecac2ca28d8d7b9634&q=atuona\n",
      "Processing City # 28 | illoqqortoormiut\n",
      "http://api.openweathermap.org/data/2.5/weather?units=Imperial&APPID=4ffda9f58a9e8cecac2ca28d8d7b9634&q=illoqqortoormiut\n",
      "City not found. skipping...\n",
      "Processing City # 29 | ribeira grande\n",
      "http://api.openweathermap.org/data/2.5/weather?units=Imperial&APPID=4ffda9f58a9e8cecac2ca28d8d7b9634&q=ribeira+grande\n",
      "Processing City # 30 | kaitangata\n",
      "http://api.openweathermap.org/data/2.5/weather?units=Imperial&APPID=4ffda9f58a9e8cecac2ca28d8d7b9634&q=kaitangata\n",
      "Processing City # 31 | belushya guba\n",
      "http://api.openweathermap.org/data/2.5/weather?units=Imperial&APPID=4ffda9f58a9e8cecac2ca28d8d7b9634&q=belushya+guba\n",
      "City not found. skipping...\n",
      "Processing City # 32 | leningradskiy\n",
      "http://api.openweathermap.org/data/2.5/weather?units=Imperial&APPID=4ffda9f58a9e8cecac2ca28d8d7b9634&q=leningradskiy\n",
      "Processing City # 33 | wuning\n",
      "http://api.openweathermap.org/data/2.5/weather?units=Imperial&APPID=4ffda9f58a9e8cecac2ca28d8d7b9634&q=wuning\n",
      "Processing City # 34 | mys shmidta\n",
      "http://api.openweathermap.org/data/2.5/weather?units=Imperial&APPID=4ffda9f58a9e8cecac2ca28d8d7b9634&q=mys+shmidta\n",
      "City not found. skipping...\n",
      "Processing City # 35 | bethel\n",
      "http://api.openweathermap.org/data/2.5/weather?units=Imperial&APPID=4ffda9f58a9e8cecac2ca28d8d7b9634&q=bethel\n",
      "Processing City # 36 | punta arenas\n",
      "http://api.openweathermap.org/data/2.5/weather?units=Imperial&APPID=4ffda9f58a9e8cecac2ca28d8d7b9634&q=punta+arenas\n",
      "Processing City # 37 | busselton\n",
      "http://api.openweathermap.org/data/2.5/weather?units=Imperial&APPID=4ffda9f58a9e8cecac2ca28d8d7b9634&q=busselton\n",
      "Processing City # 38 | wonthaggi\n",
      "http://api.openweathermap.org/data/2.5/weather?units=Imperial&APPID=4ffda9f58a9e8cecac2ca28d8d7b9634&q=wonthaggi\n",
      "Processing City # 39 | kabanjahe\n",
      "http://api.openweathermap.org/data/2.5/weather?units=Imperial&APPID=4ffda9f58a9e8cecac2ca28d8d7b9634&q=kabanjahe\n",
      "Processing City # 40 | carnarvon\n",
      "http://api.openweathermap.org/data/2.5/weather?units=Imperial&APPID=4ffda9f58a9e8cecac2ca28d8d7b9634&q=carnarvon\n",
      "Processing City # 41 | cayenne\n",
      "http://api.openweathermap.org/data/2.5/weather?units=Imperial&APPID=4ffda9f58a9e8cecac2ca28d8d7b9634&q=cayenne\n",
      "Processing City # 42 | esperance\n",
      "http://api.openweathermap.org/data/2.5/weather?units=Imperial&APPID=4ffda9f58a9e8cecac2ca28d8d7b9634&q=esperance\n",
      "Processing City # 43 | belaya gora\n",
      "http://api.openweathermap.org/data/2.5/weather?units=Imperial&APPID=4ffda9f58a9e8cecac2ca28d8d7b9634&q=belaya+gora\n",
      "Processing City # 44 | georgetown\n",
      "http://api.openweathermap.org/data/2.5/weather?units=Imperial&APPID=4ffda9f58a9e8cecac2ca28d8d7b9634&q=georgetown\n",
      "Processing City # 45 | samalaeulu\n",
      "http://api.openweathermap.org/data/2.5/weather?units=Imperial&APPID=4ffda9f58a9e8cecac2ca28d8d7b9634&q=samalaeulu\n",
      "City not found. skipping...\n",
      "Processing City # 46 | mudgee\n",
      "http://api.openweathermap.org/data/2.5/weather?units=Imperial&APPID=4ffda9f58a9e8cecac2ca28d8d7b9634&q=mudgee\n",
      "Processing City # 47 | bluff\n",
      "http://api.openweathermap.org/data/2.5/weather?units=Imperial&APPID=4ffda9f58a9e8cecac2ca28d8d7b9634&q=bluff\n",
      "Processing City # 48 | arraial do cabo\n",
      "http://api.openweathermap.org/data/2.5/weather?units=Imperial&APPID=4ffda9f58a9e8cecac2ca28d8d7b9634&q=arraial+do+cabo\n",
      "Processing City # 49 | nikolskoye\n",
      "http://api.openweathermap.org/data/2.5/weather?units=Imperial&APPID=4ffda9f58a9e8cecac2ca28d8d7b9634&q=nikolskoye\n",
      "Processing City # 50 | mehamn\n",
      "http://api.openweathermap.org/data/2.5/weather?units=Imperial&APPID=4ffda9f58a9e8cecac2ca28d8d7b9634&q=mehamn\n",
      "Processing City # 51 | ferrol\n",
      "http://api.openweathermap.org/data/2.5/weather?units=Imperial&APPID=4ffda9f58a9e8cecac2ca28d8d7b9634&q=ferrol\n",
      "Processing City # 52 | butaritari\n",
      "http://api.openweathermap.org/data/2.5/weather?units=Imperial&APPID=4ffda9f58a9e8cecac2ca28d8d7b9634&q=butaritari\n",
      "Processing City # 53 | kloulklubed\n",
      "http://api.openweathermap.org/data/2.5/weather?units=Imperial&APPID=4ffda9f58a9e8cecac2ca28d8d7b9634&q=kloulklubed\n",
      "Processing City # 54 | codrington\n",
      "http://api.openweathermap.org/data/2.5/weather?units=Imperial&APPID=4ffda9f58a9e8cecac2ca28d8d7b9634&q=codrington\n",
      "Processing City # 55 | khatanga\n",
      "http://api.openweathermap.org/data/2.5/weather?units=Imperial&APPID=4ffda9f58a9e8cecac2ca28d8d7b9634&q=khatanga\n"
     ]
    },
    {
     "name": "stdout",
     "output_type": "stream",
     "text": [
      "Processing City # 56 | demba\n",
      "http://api.openweathermap.org/data/2.5/weather?units=Imperial&APPID=4ffda9f58a9e8cecac2ca28d8d7b9634&q=demba\n",
      "Processing City # 57 | takhtamygda\n",
      "http://api.openweathermap.org/data/2.5/weather?units=Imperial&APPID=4ffda9f58a9e8cecac2ca28d8d7b9634&q=takhtamygda\n",
      "Processing City # 58 | dongsheng\n",
      "http://api.openweathermap.org/data/2.5/weather?units=Imperial&APPID=4ffda9f58a9e8cecac2ca28d8d7b9634&q=dongsheng\n",
      "Processing City # 59 | eqbaliyeh\n",
      "http://api.openweathermap.org/data/2.5/weather?units=Imperial&APPID=4ffda9f58a9e8cecac2ca28d8d7b9634&q=eqbaliyeh\n",
      "Processing City # 60 | abha\n",
      "http://api.openweathermap.org/data/2.5/weather?units=Imperial&APPID=4ffda9f58a9e8cecac2ca28d8d7b9634&q=abha\n",
      "Processing City # 61 | port alfred\n",
      "http://api.openweathermap.org/data/2.5/weather?units=Imperial&APPID=4ffda9f58a9e8cecac2ca28d8d7b9634&q=port+alfred\n",
      "Processing City # 62 | cidreira\n",
      "http://api.openweathermap.org/data/2.5/weather?units=Imperial&APPID=4ffda9f58a9e8cecac2ca28d8d7b9634&q=cidreira\n",
      "Processing City # 63 | yirol\n",
      "http://api.openweathermap.org/data/2.5/weather?units=Imperial&APPID=4ffda9f58a9e8cecac2ca28d8d7b9634&q=yirol\n",
      "City not found. skipping...\n",
      "Processing City # 64 | saint-philippe\n",
      "http://api.openweathermap.org/data/2.5/weather?units=Imperial&APPID=4ffda9f58a9e8cecac2ca28d8d7b9634&q=saint-philippe\n",
      "Processing City # 65 | zhigalovo\n",
      "http://api.openweathermap.org/data/2.5/weather?units=Imperial&APPID=4ffda9f58a9e8cecac2ca28d8d7b9634&q=zhigalovo\n",
      "Processing City # 66 | safaga\n",
      "http://api.openweathermap.org/data/2.5/weather?units=Imperial&APPID=4ffda9f58a9e8cecac2ca28d8d7b9634&q=safaga\n",
      "Processing City # 67 | coquimbo\n",
      "http://api.openweathermap.org/data/2.5/weather?units=Imperial&APPID=4ffda9f58a9e8cecac2ca28d8d7b9634&q=coquimbo\n",
      "Processing City # 68 | tiksi\n",
      "http://api.openweathermap.org/data/2.5/weather?units=Imperial&APPID=4ffda9f58a9e8cecac2ca28d8d7b9634&q=tiksi\n",
      "Processing City # 69 | wagar\n",
      "http://api.openweathermap.org/data/2.5/weather?units=Imperial&APPID=4ffda9f58a9e8cecac2ca28d8d7b9634&q=wagar\n",
      "Processing City # 70 | camana\n",
      "http://api.openweathermap.org/data/2.5/weather?units=Imperial&APPID=4ffda9f58a9e8cecac2ca28d8d7b9634&q=camana\n",
      "Processing City # 71 | rikitea\n",
      "http://api.openweathermap.org/data/2.5/weather?units=Imperial&APPID=4ffda9f58a9e8cecac2ca28d8d7b9634&q=rikitea\n",
      "Processing City # 72 | palabuhanratu\n",
      "http://api.openweathermap.org/data/2.5/weather?units=Imperial&APPID=4ffda9f58a9e8cecac2ca28d8d7b9634&q=palabuhanratu\n",
      "City not found. skipping...\n",
      "Processing City # 73 | cape town\n",
      "http://api.openweathermap.org/data/2.5/weather?units=Imperial&APPID=4ffda9f58a9e8cecac2ca28d8d7b9634&q=cape+town\n",
      "Processing City # 74 | mahaicony\n",
      "http://api.openweathermap.org/data/2.5/weather?units=Imperial&APPID=4ffda9f58a9e8cecac2ca28d8d7b9634&q=mahaicony\n",
      "City not found. skipping...\n",
      "Processing City # 75 | ocean city\n",
      "http://api.openweathermap.org/data/2.5/weather?units=Imperial&APPID=4ffda9f58a9e8cecac2ca28d8d7b9634&q=ocean+city\n",
      "Processing City # 76 | mataura\n",
      "http://api.openweathermap.org/data/2.5/weather?units=Imperial&APPID=4ffda9f58a9e8cecac2ca28d8d7b9634&q=mataura\n",
      "Processing City # 77 | hobart\n",
      "http://api.openweathermap.org/data/2.5/weather?units=Imperial&APPID=4ffda9f58a9e8cecac2ca28d8d7b9634&q=hobart\n",
      "Processing City # 78 | severo-kurilsk\n",
      "http://api.openweathermap.org/data/2.5/weather?units=Imperial&APPID=4ffda9f58a9e8cecac2ca28d8d7b9634&q=severo-kurilsk\n",
      "Processing City # 79 | grand gaube\n",
      "http://api.openweathermap.org/data/2.5/weather?units=Imperial&APPID=4ffda9f58a9e8cecac2ca28d8d7b9634&q=grand+gaube\n",
      "Processing City # 80 | birin\n",
      "http://api.openweathermap.org/data/2.5/weather?units=Imperial&APPID=4ffda9f58a9e8cecac2ca28d8d7b9634&q=birin\n",
      "Processing City # 81 | lagoa vermelha\n",
      "http://api.openweathermap.org/data/2.5/weather?units=Imperial&APPID=4ffda9f58a9e8cecac2ca28d8d7b9634&q=lagoa+vermelha\n",
      "Processing City # 82 | katsuura\n",
      "http://api.openweathermap.org/data/2.5/weather?units=Imperial&APPID=4ffda9f58a9e8cecac2ca28d8d7b9634&q=katsuura\n",
      "Processing City # 83 | alofi\n",
      "http://api.openweathermap.org/data/2.5/weather?units=Imperial&APPID=4ffda9f58a9e8cecac2ca28d8d7b9634&q=alofi\n",
      "Processing City # 84 | ridgecrest\n",
      "http://api.openweathermap.org/data/2.5/weather?units=Imperial&APPID=4ffda9f58a9e8cecac2ca28d8d7b9634&q=ridgecrest\n",
      "Processing City # 85 | nisia floresta\n",
      "http://api.openweathermap.org/data/2.5/weather?units=Imperial&APPID=4ffda9f58a9e8cecac2ca28d8d7b9634&q=nisia+floresta\n",
      "Processing City # 86 | yian\n",
      "http://api.openweathermap.org/data/2.5/weather?units=Imperial&APPID=4ffda9f58a9e8cecac2ca28d8d7b9634&q=yian\n",
      "City not found. skipping...\n",
      "Processing City # 87 | cockburn town\n",
      "http://api.openweathermap.org/data/2.5/weather?units=Imperial&APPID=4ffda9f58a9e8cecac2ca28d8d7b9634&q=cockburn+town\n",
      "Processing City # 88 | kahului\n",
      "http://api.openweathermap.org/data/2.5/weather?units=Imperial&APPID=4ffda9f58a9e8cecac2ca28d8d7b9634&q=kahului\n",
      "Processing City # 89 | taolanaro\n",
      "http://api.openweathermap.org/data/2.5/weather?units=Imperial&APPID=4ffda9f58a9e8cecac2ca28d8d7b9634&q=taolanaro\n",
      "City not found. skipping...\n",
      "Processing City # 90 | avarua\n",
      "http://api.openweathermap.org/data/2.5/weather?units=Imperial&APPID=4ffda9f58a9e8cecac2ca28d8d7b9634&q=avarua\n",
      "Processing City # 91 | nome\n",
      "http://api.openweathermap.org/data/2.5/weather?units=Imperial&APPID=4ffda9f58a9e8cecac2ca28d8d7b9634&q=nome\n",
      "Processing City # 92 | kapuskasing\n",
      "http://api.openweathermap.org/data/2.5/weather?units=Imperial&APPID=4ffda9f58a9e8cecac2ca28d8d7b9634&q=kapuskasing\n",
      "Processing City # 93 | nadym\n",
      "http://api.openweathermap.org/data/2.5/weather?units=Imperial&APPID=4ffda9f58a9e8cecac2ca28d8d7b9634&q=nadym\n",
      "Processing City # 94 | nuuk\n",
      "http://api.openweathermap.org/data/2.5/weather?units=Imperial&APPID=4ffda9f58a9e8cecac2ca28d8d7b9634&q=nuuk\n",
      "Processing City # 95 | te anau\n",
      "http://api.openweathermap.org/data/2.5/weather?units=Imperial&APPID=4ffda9f58a9e8cecac2ca28d8d7b9634&q=te+anau\n",
      "Processing City # 96 | bilma\n",
      "http://api.openweathermap.org/data/2.5/weather?units=Imperial&APPID=4ffda9f58a9e8cecac2ca28d8d7b9634&q=bilma\n",
      "Processing City # 97 | hami\n",
      "http://api.openweathermap.org/data/2.5/weather?units=Imperial&APPID=4ffda9f58a9e8cecac2ca28d8d7b9634&q=hami\n",
      "Processing City # 98 | albany\n",
      "http://api.openweathermap.org/data/2.5/weather?units=Imperial&APPID=4ffda9f58a9e8cecac2ca28d8d7b9634&q=albany\n",
      "Processing City # 99 | lasa\n",
      "http://api.openweathermap.org/data/2.5/weather?units=Imperial&APPID=4ffda9f58a9e8cecac2ca28d8d7b9634&q=lasa\n",
      "Processing City # 100 | san quintin\n",
      "http://api.openweathermap.org/data/2.5/weather?units=Imperial&APPID=4ffda9f58a9e8cecac2ca28d8d7b9634&q=san+quintin\n",
      "Processing City # 101 | uige\n",
      "http://api.openweathermap.org/data/2.5/weather?units=Imperial&APPID=4ffda9f58a9e8cecac2ca28d8d7b9634&q=uige\n",
      "Processing City # 102 | grand bank\n",
      "http://api.openweathermap.org/data/2.5/weather?units=Imperial&APPID=4ffda9f58a9e8cecac2ca28d8d7b9634&q=grand+bank\n",
      "Processing City # 103 | pevek\n",
      "http://api.openweathermap.org/data/2.5/weather?units=Imperial&APPID=4ffda9f58a9e8cecac2ca28d8d7b9634&q=pevek\n",
      "Processing City # 104 | cherskiy\n",
      "http://api.openweathermap.org/data/2.5/weather?units=Imperial&APPID=4ffda9f58a9e8cecac2ca28d8d7b9634&q=cherskiy\n",
      "Processing City # 105 | chatra\n",
      "http://api.openweathermap.org/data/2.5/weather?units=Imperial&APPID=4ffda9f58a9e8cecac2ca28d8d7b9634&q=chatra\n",
      "Processing City # 106 | new norfolk\n",
      "http://api.openweathermap.org/data/2.5/weather?units=Imperial&APPID=4ffda9f58a9e8cecac2ca28d8d7b9634&q=new+norfolk\n",
      "Processing City # 107 | beisfjord\n",
      "http://api.openweathermap.org/data/2.5/weather?units=Imperial&APPID=4ffda9f58a9e8cecac2ca28d8d7b9634&q=beisfjord\n",
      "Processing City # 108 | zhezkazgan\n",
      "http://api.openweathermap.org/data/2.5/weather?units=Imperial&APPID=4ffda9f58a9e8cecac2ca28d8d7b9634&q=zhezkazgan\n",
      "Processing City # 109 | port elizabeth\n",
      "http://api.openweathermap.org/data/2.5/weather?units=Imperial&APPID=4ffda9f58a9e8cecac2ca28d8d7b9634&q=port+elizabeth\n",
      "Processing City # 110 | padang\n",
      "http://api.openweathermap.org/data/2.5/weather?units=Imperial&APPID=4ffda9f58a9e8cecac2ca28d8d7b9634&q=padang\n",
      "Processing City # 111 | comodoro rivadavia\n",
      "http://api.openweathermap.org/data/2.5/weather?units=Imperial&APPID=4ffda9f58a9e8cecac2ca28d8d7b9634&q=comodoro+rivadavia\n",
      "Processing City # 112 | dikson\n",
      "http://api.openweathermap.org/data/2.5/weather?units=Imperial&APPID=4ffda9f58a9e8cecac2ca28d8d7b9634&q=dikson\n"
     ]
    },
    {
     "name": "stdout",
     "output_type": "stream",
     "text": [
      "Processing City # 113 | jurm\n",
      "http://api.openweathermap.org/data/2.5/weather?units=Imperial&APPID=4ffda9f58a9e8cecac2ca28d8d7b9634&q=jurm\n",
      "Processing City # 114 | mogila\n",
      "http://api.openweathermap.org/data/2.5/weather?units=Imperial&APPID=4ffda9f58a9e8cecac2ca28d8d7b9634&q=mogila\n",
      "Processing City # 115 | airai\n",
      "http://api.openweathermap.org/data/2.5/weather?units=Imperial&APPID=4ffda9f58a9e8cecac2ca28d8d7b9634&q=airai\n",
      "Processing City # 116 | kamuli\n",
      "http://api.openweathermap.org/data/2.5/weather?units=Imperial&APPID=4ffda9f58a9e8cecac2ca28d8d7b9634&q=kamuli\n",
      "Processing City # 117 | sambava\n",
      "http://api.openweathermap.org/data/2.5/weather?units=Imperial&APPID=4ffda9f58a9e8cecac2ca28d8d7b9634&q=sambava\n",
      "Processing City # 118 | ajuchitlan\n",
      "http://api.openweathermap.org/data/2.5/weather?units=Imperial&APPID=4ffda9f58a9e8cecac2ca28d8d7b9634&q=ajuchitlan\n",
      "Processing City # 119 | gigmoto\n",
      "http://api.openweathermap.org/data/2.5/weather?units=Imperial&APPID=4ffda9f58a9e8cecac2ca28d8d7b9634&q=gigmoto\n",
      "Processing City # 120 | ostrovnoy\n",
      "http://api.openweathermap.org/data/2.5/weather?units=Imperial&APPID=4ffda9f58a9e8cecac2ca28d8d7b9634&q=ostrovnoy\n",
      "Processing City # 121 | okhotsk\n",
      "http://api.openweathermap.org/data/2.5/weather?units=Imperial&APPID=4ffda9f58a9e8cecac2ca28d8d7b9634&q=okhotsk\n",
      "Processing City # 122 | jamestown\n",
      "http://api.openweathermap.org/data/2.5/weather?units=Imperial&APPID=4ffda9f58a9e8cecac2ca28d8d7b9634&q=jamestown\n",
      "Processing City # 123 | pospelikha\n",
      "http://api.openweathermap.org/data/2.5/weather?units=Imperial&APPID=4ffda9f58a9e8cecac2ca28d8d7b9634&q=pospelikha\n",
      "Processing City # 124 | pangnirtung\n",
      "http://api.openweathermap.org/data/2.5/weather?units=Imperial&APPID=4ffda9f58a9e8cecac2ca28d8d7b9634&q=pangnirtung\n",
      "Processing City # 125 | cootamundra\n",
      "http://api.openweathermap.org/data/2.5/weather?units=Imperial&APPID=4ffda9f58a9e8cecac2ca28d8d7b9634&q=cootamundra\n",
      "Processing City # 126 | tura\n",
      "http://api.openweathermap.org/data/2.5/weather?units=Imperial&APPID=4ffda9f58a9e8cecac2ca28d8d7b9634&q=tura\n",
      "Processing City # 127 | saraland\n",
      "http://api.openweathermap.org/data/2.5/weather?units=Imperial&APPID=4ffda9f58a9e8cecac2ca28d8d7b9634&q=saraland\n",
      "Processing City # 128 | baijiantan\n",
      "http://api.openweathermap.org/data/2.5/weather?units=Imperial&APPID=4ffda9f58a9e8cecac2ca28d8d7b9634&q=baijiantan\n",
      "Processing City # 129 | chuy\n",
      "http://api.openweathermap.org/data/2.5/weather?units=Imperial&APPID=4ffda9f58a9e8cecac2ca28d8d7b9634&q=chuy\n",
      "Processing City # 130 | kendari\n",
      "http://api.openweathermap.org/data/2.5/weather?units=Imperial&APPID=4ffda9f58a9e8cecac2ca28d8d7b9634&q=kendari\n",
      "Processing City # 131 | hay river\n",
      "http://api.openweathermap.org/data/2.5/weather?units=Imperial&APPID=4ffda9f58a9e8cecac2ca28d8d7b9634&q=hay+river\n",
      "Processing City # 132 | novoagansk\n",
      "http://api.openweathermap.org/data/2.5/weather?units=Imperial&APPID=4ffda9f58a9e8cecac2ca28d8d7b9634&q=novoagansk\n",
      "Processing City # 133 | saskylakh\n",
      "http://api.openweathermap.org/data/2.5/weather?units=Imperial&APPID=4ffda9f58a9e8cecac2ca28d8d7b9634&q=saskylakh\n",
      "Processing City # 134 | qaqortoq\n",
      "http://api.openweathermap.org/data/2.5/weather?units=Imperial&APPID=4ffda9f58a9e8cecac2ca28d8d7b9634&q=qaqortoq\n",
      "Processing City # 135 | cilegon\n",
      "http://api.openweathermap.org/data/2.5/weather?units=Imperial&APPID=4ffda9f58a9e8cecac2ca28d8d7b9634&q=cilegon\n",
      "Processing City # 136 | laguna\n",
      "http://api.openweathermap.org/data/2.5/weather?units=Imperial&APPID=4ffda9f58a9e8cecac2ca28d8d7b9634&q=laguna\n",
      "Processing City # 137 | bonita springs\n",
      "http://api.openweathermap.org/data/2.5/weather?units=Imperial&APPID=4ffda9f58a9e8cecac2ca28d8d7b9634&q=bonita+springs\n",
      "Processing City # 138 | hasaki\n",
      "http://api.openweathermap.org/data/2.5/weather?units=Imperial&APPID=4ffda9f58a9e8cecac2ca28d8d7b9634&q=hasaki\n",
      "Processing City # 139 | hearst\n",
      "http://api.openweathermap.org/data/2.5/weather?units=Imperial&APPID=4ffda9f58a9e8cecac2ca28d8d7b9634&q=hearst\n",
      "Processing City # 140 | puerto ayora\n",
      "http://api.openweathermap.org/data/2.5/weather?units=Imperial&APPID=4ffda9f58a9e8cecac2ca28d8d7b9634&q=puerto+ayora\n",
      "Processing City # 141 | ponta do sol\n",
      "http://api.openweathermap.org/data/2.5/weather?units=Imperial&APPID=4ffda9f58a9e8cecac2ca28d8d7b9634&q=ponta+do+sol\n",
      "Processing City # 142 | mount gambier\n",
      "http://api.openweathermap.org/data/2.5/weather?units=Imperial&APPID=4ffda9f58a9e8cecac2ca28d8d7b9634&q=mount+gambier\n",
      "Processing City # 143 | vaini\n",
      "http://api.openweathermap.org/data/2.5/weather?units=Imperial&APPID=4ffda9f58a9e8cecac2ca28d8d7b9634&q=vaini\n",
      "Processing City # 144 | barrow\n",
      "http://api.openweathermap.org/data/2.5/weather?units=Imperial&APPID=4ffda9f58a9e8cecac2ca28d8d7b9634&q=barrow\n",
      "Processing City # 145 | manoel urbano\n",
      "http://api.openweathermap.org/data/2.5/weather?units=Imperial&APPID=4ffda9f58a9e8cecac2ca28d8d7b9634&q=manoel+urbano\n",
      "Processing City # 146 | krasnoarmeyskoye\n",
      "http://api.openweathermap.org/data/2.5/weather?units=Imperial&APPID=4ffda9f58a9e8cecac2ca28d8d7b9634&q=krasnoarmeyskoye\n",
      "Processing City # 147 | huarmey\n",
      "http://api.openweathermap.org/data/2.5/weather?units=Imperial&APPID=4ffda9f58a9e8cecac2ca28d8d7b9634&q=huarmey\n",
      "Processing City # 148 | santa rosa\n",
      "http://api.openweathermap.org/data/2.5/weather?units=Imperial&APPID=4ffda9f58a9e8cecac2ca28d8d7b9634&q=santa+rosa\n",
      "Processing City # 149 | longlac\n",
      "http://api.openweathermap.org/data/2.5/weather?units=Imperial&APPID=4ffda9f58a9e8cecac2ca28d8d7b9634&q=longlac\n",
      "City not found. skipping...\n",
      "Processing City # 150 | jiaohe\n",
      "http://api.openweathermap.org/data/2.5/weather?units=Imperial&APPID=4ffda9f58a9e8cecac2ca28d8d7b9634&q=jiaohe\n",
      "Processing City # 151 | luderitz\n",
      "http://api.openweathermap.org/data/2.5/weather?units=Imperial&APPID=4ffda9f58a9e8cecac2ca28d8d7b9634&q=luderitz\n",
      "Processing City # 152 | lavrentiya\n",
      "http://api.openweathermap.org/data/2.5/weather?units=Imperial&APPID=4ffda9f58a9e8cecac2ca28d8d7b9634&q=lavrentiya\n",
      "Processing City # 153 | pisco\n",
      "http://api.openweathermap.org/data/2.5/weather?units=Imperial&APPID=4ffda9f58a9e8cecac2ca28d8d7b9634&q=pisco\n",
      "Processing City # 154 | manggar\n",
      "http://api.openweathermap.org/data/2.5/weather?units=Imperial&APPID=4ffda9f58a9e8cecac2ca28d8d7b9634&q=manggar\n",
      "Processing City # 155 | vilyuysk\n",
      "http://api.openweathermap.org/data/2.5/weather?units=Imperial&APPID=4ffda9f58a9e8cecac2ca28d8d7b9634&q=vilyuysk\n",
      "Processing City # 156 | geresk\n",
      "http://api.openweathermap.org/data/2.5/weather?units=Imperial&APPID=4ffda9f58a9e8cecac2ca28d8d7b9634&q=geresk\n",
      "City not found. skipping...\n",
      "Processing City # 157 | dingle\n",
      "http://api.openweathermap.org/data/2.5/weather?units=Imperial&APPID=4ffda9f58a9e8cecac2ca28d8d7b9634&q=dingle\n",
      "Processing City # 158 | yermekeyevo\n",
      "http://api.openweathermap.org/data/2.5/weather?units=Imperial&APPID=4ffda9f58a9e8cecac2ca28d8d7b9634&q=yermekeyevo\n",
      "Processing City # 159 | anadyr\n",
      "http://api.openweathermap.org/data/2.5/weather?units=Imperial&APPID=4ffda9f58a9e8cecac2ca28d8d7b9634&q=anadyr\n",
      "Processing City # 160 | saint george\n",
      "http://api.openweathermap.org/data/2.5/weather?units=Imperial&APPID=4ffda9f58a9e8cecac2ca28d8d7b9634&q=saint+george\n",
      "Processing City # 161 | san carlos de bariloche\n",
      "http://api.openweathermap.org/data/2.5/weather?units=Imperial&APPID=4ffda9f58a9e8cecac2ca28d8d7b9634&q=san+carlos+de+bariloche\n",
      "Processing City # 162 | novosergiyevka\n",
      "http://api.openweathermap.org/data/2.5/weather?units=Imperial&APPID=4ffda9f58a9e8cecac2ca28d8d7b9634&q=novosergiyevka\n",
      "Processing City # 163 | bandarbeyla\n",
      "http://api.openweathermap.org/data/2.5/weather?units=Imperial&APPID=4ffda9f58a9e8cecac2ca28d8d7b9634&q=bandarbeyla\n",
      "Processing City # 164 | beroroha\n",
      "http://api.openweathermap.org/data/2.5/weather?units=Imperial&APPID=4ffda9f58a9e8cecac2ca28d8d7b9634&q=beroroha\n",
      "Processing City # 165 | provideniya\n",
      "http://api.openweathermap.org/data/2.5/weather?units=Imperial&APPID=4ffda9f58a9e8cecac2ca28d8d7b9634&q=provideniya\n",
      "Processing City # 166 | uwayl\n",
      "http://api.openweathermap.org/data/2.5/weather?units=Imperial&APPID=4ffda9f58a9e8cecac2ca28d8d7b9634&q=uwayl\n",
      "City not found. skipping...\n",
      "Processing City # 167 | ikom\n",
      "http://api.openweathermap.org/data/2.5/weather?units=Imperial&APPID=4ffda9f58a9e8cecac2ca28d8d7b9634&q=ikom\n",
      "Processing City # 168 | bambous virieux\n",
      "http://api.openweathermap.org/data/2.5/weather?units=Imperial&APPID=4ffda9f58a9e8cecac2ca28d8d7b9634&q=bambous+virieux\n"
     ]
    },
    {
     "name": "stdout",
     "output_type": "stream",
     "text": [
      "Processing City # 169 | jertih\n",
      "http://api.openweathermap.org/data/2.5/weather?units=Imperial&APPID=4ffda9f58a9e8cecac2ca28d8d7b9634&q=jertih\n",
      "Processing City # 170 | axim\n",
      "http://api.openweathermap.org/data/2.5/weather?units=Imperial&APPID=4ffda9f58a9e8cecac2ca28d8d7b9634&q=axim\n",
      "Processing City # 171 | ilulissat\n",
      "http://api.openweathermap.org/data/2.5/weather?units=Imperial&APPID=4ffda9f58a9e8cecac2ca28d8d7b9634&q=ilulissat\n",
      "Processing City # 172 | broken hill\n",
      "http://api.openweathermap.org/data/2.5/weather?units=Imperial&APPID=4ffda9f58a9e8cecac2ca28d8d7b9634&q=broken+hill\n",
      "Processing City # 173 | havre-saint-pierre\n",
      "http://api.openweathermap.org/data/2.5/weather?units=Imperial&APPID=4ffda9f58a9e8cecac2ca28d8d7b9634&q=havre-saint-pierre\n",
      "Processing City # 174 | vila franca do campo\n",
      "http://api.openweathermap.org/data/2.5/weather?units=Imperial&APPID=4ffda9f58a9e8cecac2ca28d8d7b9634&q=vila+franca+do+campo\n",
      "Processing City # 175 | xichang\n",
      "http://api.openweathermap.org/data/2.5/weather?units=Imperial&APPID=4ffda9f58a9e8cecac2ca28d8d7b9634&q=xichang\n"
     ]
    },
    {
     "ename": "ConnectionResetError",
     "evalue": "[WinError 10054] An existing connection was forcibly closed by the remote host",
     "output_type": "error",
     "traceback": [
      "\u001b[1;31m---------------------------------------------------------------------------\u001b[0m",
      "\u001b[1;31mConnectionResetError\u001b[0m                      Traceback (most recent call last)",
      "\u001b[1;32m<ipython-input-71-01bbaf3fe780>\u001b[0m in \u001b[0;36m<module>\u001b[1;34m()\u001b[0m\n\u001b[0;32m     18\u001b[0m     \u001b[0mprint\u001b[0m\u001b[1;33m(\u001b[0m\u001b[0mcity_url\u001b[0m\u001b[1;33m)\u001b[0m\u001b[1;33m\u001b[0m\u001b[1;33m\u001b[0m\u001b[0m\n\u001b[0;32m     19\u001b[0m     \u001b[1;32mtry\u001b[0m\u001b[1;33m:\u001b[0m\u001b[1;33m\u001b[0m\u001b[1;33m\u001b[0m\u001b[0m\n\u001b[1;32m---> 20\u001b[1;33m         \u001b[0mcity_data\u001b[0m \u001b[1;33m=\u001b[0m \u001b[0mow\u001b[0m\u001b[1;33m.\u001b[0m\u001b[0mget_current\u001b[0m\u001b[1;33m(\u001b[0m\u001b[0mcity\u001b[0m\u001b[1;33m,\u001b[0m\u001b[1;33m**\u001b[0m\u001b[0msetting\u001b[0m\u001b[1;33m)\u001b[0m\u001b[1;33m\u001b[0m\u001b[1;33m\u001b[0m\u001b[0m\n\u001b[0m\u001b[0;32m     21\u001b[0m         \u001b[0mcl\u001b[0m\u001b[1;33m,\u001b[0m\u001b[0mct\u001b[0m\u001b[1;33m,\u001b[0m\u001b[0mdt\u001b[0m\u001b[1;33m,\u001b[0m\u001b[0mhm\u001b[0m\u001b[1;33m,\u001b[0m\u001b[0mmt\u001b[0m\u001b[1;33m,\u001b[0m\u001b[0mws\u001b[0m\u001b[1;33m,\u001b[0m\u001b[0mlt\u001b[0m\u001b[1;33m,\u001b[0m\u001b[0mln\u001b[0m \u001b[1;33m=\u001b[0m \u001b[0mcity_data\u001b[0m\u001b[1;33m(\u001b[0m\u001b[1;33m*\u001b[0m\u001b[0mdesired_keys\u001b[0m\u001b[1;33m)\u001b[0m\u001b[1;33m\u001b[0m\u001b[1;33m\u001b[0m\u001b[0m\n\u001b[0;32m     22\u001b[0m         \u001b[0mcloudiness\u001b[0m\u001b[1;33m.\u001b[0m\u001b[0mappend\u001b[0m\u001b[1;33m(\u001b[0m\u001b[0mcl\u001b[0m\u001b[1;33m)\u001b[0m\u001b[1;33m\u001b[0m\u001b[1;33m\u001b[0m\u001b[0m\n",
      "\u001b[1;32mC:\\Users\\User\\anaconda3\\envs\\pythondata\\lib\\site-packages\\openweathermapy\\core.py\u001b[0m in \u001b[0;36mget_current\u001b[1;34m(city, **params)\u001b[0m\n\u001b[0;32m    153\u001b[0m            \u001b[1;33m>>\u001b[0m\u001b[1;33m>\u001b[0m \u001b[0mdata\u001b[0m \u001b[1;33m=\u001b[0m \u001b[0mget_current\u001b[0m\u001b[1;33m(\u001b[0m\u001b[0mzip\u001b[0m\u001b[1;33m=\u001b[0m\u001b[1;34m\"34128,DE\"\u001b[0m\u001b[1;33m)\u001b[0m\u001b[1;33m\u001b[0m\u001b[1;33m\u001b[0m\u001b[0m\n\u001b[0;32m    154\u001b[0m \t\"\"\"\n\u001b[1;32m--> 155\u001b[1;33m         \u001b[0mdata\u001b[0m \u001b[1;33m=\u001b[0m \u001b[0mwrap_get\u001b[0m\u001b[1;33m(\u001b[0m\u001b[1;34m\"weather\"\u001b[0m\u001b[1;33m)\u001b[0m\u001b[1;33m(\u001b[0m\u001b[0mcity\u001b[0m\u001b[1;33m,\u001b[0m \u001b[1;33m**\u001b[0m\u001b[0mparams\u001b[0m\u001b[1;33m)\u001b[0m\u001b[1;33m\u001b[0m\u001b[1;33m\u001b[0m\u001b[0m\n\u001b[0m\u001b[0;32m    156\u001b[0m         \u001b[1;32mreturn\u001b[0m \u001b[0mDataPoint\u001b[0m\u001b[1;33m(\u001b[0m\u001b[0mdata\u001b[0m\u001b[1;33m)\u001b[0m\u001b[1;33m\u001b[0m\u001b[1;33m\u001b[0m\u001b[0m\n\u001b[0;32m    157\u001b[0m \u001b[1;33m\u001b[0m\u001b[0m\n",
      "\u001b[1;32mC:\\Users\\User\\anaconda3\\envs\\pythondata\\lib\\site-packages\\openweathermapy\\core.py\u001b[0m in \u001b[0;36mcall\u001b[1;34m(loc, **params)\u001b[0m\n\u001b[0;32m     97\u001b[0m                 \u001b[1;32mif\u001b[0m \u001b[0msettings\u001b[0m\u001b[1;33m:\u001b[0m\u001b[1;33m\u001b[0m\u001b[1;33m\u001b[0m\u001b[0m\n\u001b[0;32m     98\u001b[0m                         \u001b[0mparams\u001b[0m\u001b[1;33m.\u001b[0m\u001b[0mupdate\u001b[0m\u001b[1;33m(\u001b[0m\u001b[0msettings\u001b[0m\u001b[1;33m)\u001b[0m\u001b[1;33m\u001b[0m\u001b[1;33m\u001b[0m\u001b[0m\n\u001b[1;32m---> 99\u001b[1;33m                 \u001b[0mdata\u001b[0m \u001b[1;33m=\u001b[0m \u001b[0mget\u001b[0m\u001b[1;33m(\u001b[0m\u001b[0murl\u001b[0m\u001b[1;33m,\u001b[0m \u001b[1;33m**\u001b[0m\u001b[0mparams\u001b[0m\u001b[1;33m)\u001b[0m\u001b[1;33m\u001b[0m\u001b[1;33m\u001b[0m\u001b[0m\n\u001b[0m\u001b[0;32m    100\u001b[0m                 \u001b[1;32mif\u001b[0m \u001b[0mconverter\u001b[0m\u001b[1;33m:\u001b[0m\u001b[1;33m\u001b[0m\u001b[1;33m\u001b[0m\u001b[0m\n\u001b[0;32m    101\u001b[0m                         \u001b[0mdata\u001b[0m \u001b[1;33m=\u001b[0m \u001b[0mconverter\u001b[0m\u001b[1;33m(\u001b[0m\u001b[0mdata\u001b[0m\u001b[1;33m)\u001b[0m\u001b[1;33m\u001b[0m\u001b[1;33m\u001b[0m\u001b[0m\n",
      "\u001b[1;32mC:\\Users\\User\\anaconda3\\envs\\pythondata\\lib\\site-packages\\openweathermapy\\core.py\u001b[0m in \u001b[0;36mget\u001b[1;34m(url, **params)\u001b[0m\n\u001b[0;32m     60\u001b[0m \u001b[1;32mdef\u001b[0m \u001b[0mget\u001b[0m\u001b[1;33m(\u001b[0m\u001b[0murl\u001b[0m\u001b[1;33m,\u001b[0m \u001b[1;33m**\u001b[0m\u001b[0mparams\u001b[0m\u001b[1;33m)\u001b[0m\u001b[1;33m:\u001b[0m\u001b[1;33m\u001b[0m\u001b[1;33m\u001b[0m\u001b[0m\n\u001b[0;32m     61\u001b[0m         \u001b[1;34m\"\"\"Return data as (nested) dictionary for ``url`` request.\"\"\"\u001b[0m\u001b[1;33m\u001b[0m\u001b[1;33m\u001b[0m\u001b[0m\n\u001b[1;32m---> 62\u001b[1;33m         \u001b[0mdata\u001b[0m \u001b[1;33m=\u001b[0m \u001b[0mutils\u001b[0m\u001b[1;33m.\u001b[0m\u001b[0mget_url_response\u001b[0m\u001b[1;33m(\u001b[0m\u001b[0murl\u001b[0m\u001b[1;33m,\u001b[0m \u001b[1;33m**\u001b[0m\u001b[0mparams\u001b[0m\u001b[1;33m)\u001b[0m\u001b[1;33m\u001b[0m\u001b[1;33m\u001b[0m\u001b[0m\n\u001b[0m\u001b[0;32m     63\u001b[0m         \u001b[1;31m# Decoding: Python3 compatibility\u001b[0m\u001b[1;33m\u001b[0m\u001b[1;33m\u001b[0m\u001b[1;33m\u001b[0m\u001b[0m\n\u001b[0;32m     64\u001b[0m         \u001b[1;32mreturn\u001b[0m \u001b[0mjson\u001b[0m\u001b[1;33m.\u001b[0m\u001b[0mloads\u001b[0m\u001b[1;33m(\u001b[0m\u001b[0mdata\u001b[0m\u001b[1;33m.\u001b[0m\u001b[0mdecode\u001b[0m\u001b[1;33m(\u001b[0m\u001b[1;34m\"utf-8\"\u001b[0m\u001b[1;33m)\u001b[0m\u001b[1;33m)\u001b[0m\u001b[1;33m\u001b[0m\u001b[1;33m\u001b[0m\u001b[0m\n",
      "\u001b[1;32mC:\\Users\\User\\anaconda3\\envs\\pythondata\\lib\\site-packages\\openweathermapy\\utils.py\u001b[0m in \u001b[0;36mget_url_response\u001b[1;34m(url, **params)\u001b[0m\n\u001b[0;32m     29\u001b[0m         \u001b[1;32mif\u001b[0m \u001b[0mparams\u001b[0m\u001b[1;33m:\u001b[0m\u001b[1;33m\u001b[0m\u001b[1;33m\u001b[0m\u001b[0m\n\u001b[0;32m     30\u001b[0m                 \u001b[0murl\u001b[0m \u001b[1;33m=\u001b[0m \u001b[0murl\u001b[0m\u001b[1;33m+\u001b[0m\u001b[1;34m\"?\"\u001b[0m\u001b[1;33m+\u001b[0m\u001b[0murlencode\u001b[0m\u001b[1;33m(\u001b[0m\u001b[0mparams\u001b[0m\u001b[1;33m)\u001b[0m\u001b[1;33m\u001b[0m\u001b[1;33m\u001b[0m\u001b[0m\n\u001b[1;32m---> 31\u001b[1;33m         \u001b[0mresponse\u001b[0m \u001b[1;33m=\u001b[0m \u001b[0murlopen\u001b[0m\u001b[1;33m(\u001b[0m\u001b[0murl\u001b[0m\u001b[1;33m)\u001b[0m\u001b[1;33m\u001b[0m\u001b[1;33m\u001b[0m\u001b[0m\n\u001b[0m\u001b[0;32m     32\u001b[0m         \u001b[0mdata\u001b[0m \u001b[1;33m=\u001b[0m \u001b[0mresponse\u001b[0m\u001b[1;33m.\u001b[0m\u001b[0mread\u001b[0m\u001b[1;33m(\u001b[0m\u001b[1;33m)\u001b[0m\u001b[1;33m\u001b[0m\u001b[1;33m\u001b[0m\u001b[0m\n\u001b[0;32m     33\u001b[0m         \u001b[0mresponse\u001b[0m\u001b[1;33m.\u001b[0m\u001b[0mclose\u001b[0m\u001b[1;33m(\u001b[0m\u001b[1;33m)\u001b[0m\u001b[1;33m\u001b[0m\u001b[1;33m\u001b[0m\u001b[0m\n",
      "\u001b[1;32mC:\\Users\\User\\anaconda3\\envs\\pythondata\\lib\\urllib\\request.py\u001b[0m in \u001b[0;36murlopen\u001b[1;34m(url, data, timeout, cafile, capath, cadefault, context)\u001b[0m\n\u001b[0;32m    221\u001b[0m     \u001b[1;32melse\u001b[0m\u001b[1;33m:\u001b[0m\u001b[1;33m\u001b[0m\u001b[1;33m\u001b[0m\u001b[0m\n\u001b[0;32m    222\u001b[0m         \u001b[0mopener\u001b[0m \u001b[1;33m=\u001b[0m \u001b[0m_opener\u001b[0m\u001b[1;33m\u001b[0m\u001b[1;33m\u001b[0m\u001b[0m\n\u001b[1;32m--> 223\u001b[1;33m     \u001b[1;32mreturn\u001b[0m \u001b[0mopener\u001b[0m\u001b[1;33m.\u001b[0m\u001b[0mopen\u001b[0m\u001b[1;33m(\u001b[0m\u001b[0murl\u001b[0m\u001b[1;33m,\u001b[0m \u001b[0mdata\u001b[0m\u001b[1;33m,\u001b[0m \u001b[0mtimeout\u001b[0m\u001b[1;33m)\u001b[0m\u001b[1;33m\u001b[0m\u001b[1;33m\u001b[0m\u001b[0m\n\u001b[0m\u001b[0;32m    224\u001b[0m \u001b[1;33m\u001b[0m\u001b[0m\n\u001b[0;32m    225\u001b[0m \u001b[1;32mdef\u001b[0m \u001b[0minstall_opener\u001b[0m\u001b[1;33m(\u001b[0m\u001b[0mopener\u001b[0m\u001b[1;33m)\u001b[0m\u001b[1;33m:\u001b[0m\u001b[1;33m\u001b[0m\u001b[1;33m\u001b[0m\u001b[0m\n",
      "\u001b[1;32mC:\\Users\\User\\anaconda3\\envs\\pythondata\\lib\\urllib\\request.py\u001b[0m in \u001b[0;36mopen\u001b[1;34m(self, fullurl, data, timeout)\u001b[0m\n\u001b[0;32m    524\u001b[0m             \u001b[0mreq\u001b[0m \u001b[1;33m=\u001b[0m \u001b[0mmeth\u001b[0m\u001b[1;33m(\u001b[0m\u001b[0mreq\u001b[0m\u001b[1;33m)\u001b[0m\u001b[1;33m\u001b[0m\u001b[1;33m\u001b[0m\u001b[0m\n\u001b[0;32m    525\u001b[0m \u001b[1;33m\u001b[0m\u001b[0m\n\u001b[1;32m--> 526\u001b[1;33m         \u001b[0mresponse\u001b[0m \u001b[1;33m=\u001b[0m \u001b[0mself\u001b[0m\u001b[1;33m.\u001b[0m\u001b[0m_open\u001b[0m\u001b[1;33m(\u001b[0m\u001b[0mreq\u001b[0m\u001b[1;33m,\u001b[0m \u001b[0mdata\u001b[0m\u001b[1;33m)\u001b[0m\u001b[1;33m\u001b[0m\u001b[1;33m\u001b[0m\u001b[0m\n\u001b[0m\u001b[0;32m    527\u001b[0m \u001b[1;33m\u001b[0m\u001b[0m\n\u001b[0;32m    528\u001b[0m         \u001b[1;31m# post-process response\u001b[0m\u001b[1;33m\u001b[0m\u001b[1;33m\u001b[0m\u001b[1;33m\u001b[0m\u001b[0m\n",
      "\u001b[1;32mC:\\Users\\User\\anaconda3\\envs\\pythondata\\lib\\urllib\\request.py\u001b[0m in \u001b[0;36m_open\u001b[1;34m(self, req, data)\u001b[0m\n\u001b[0;32m    542\u001b[0m         \u001b[0mprotocol\u001b[0m \u001b[1;33m=\u001b[0m \u001b[0mreq\u001b[0m\u001b[1;33m.\u001b[0m\u001b[0mtype\u001b[0m\u001b[1;33m\u001b[0m\u001b[1;33m\u001b[0m\u001b[0m\n\u001b[0;32m    543\u001b[0m         result = self._call_chain(self.handle_open, protocol, protocol +\n\u001b[1;32m--> 544\u001b[1;33m                                   '_open', req)\n\u001b[0m\u001b[0;32m    545\u001b[0m         \u001b[1;32mif\u001b[0m \u001b[0mresult\u001b[0m\u001b[1;33m:\u001b[0m\u001b[1;33m\u001b[0m\u001b[1;33m\u001b[0m\u001b[0m\n\u001b[0;32m    546\u001b[0m             \u001b[1;32mreturn\u001b[0m \u001b[0mresult\u001b[0m\u001b[1;33m\u001b[0m\u001b[1;33m\u001b[0m\u001b[0m\n",
      "\u001b[1;32mC:\\Users\\User\\anaconda3\\envs\\pythondata\\lib\\urllib\\request.py\u001b[0m in \u001b[0;36m_call_chain\u001b[1;34m(self, chain, kind, meth_name, *args)\u001b[0m\n\u001b[0;32m    502\u001b[0m         \u001b[1;32mfor\u001b[0m \u001b[0mhandler\u001b[0m \u001b[1;32min\u001b[0m \u001b[0mhandlers\u001b[0m\u001b[1;33m:\u001b[0m\u001b[1;33m\u001b[0m\u001b[1;33m\u001b[0m\u001b[0m\n\u001b[0;32m    503\u001b[0m             \u001b[0mfunc\u001b[0m \u001b[1;33m=\u001b[0m \u001b[0mgetattr\u001b[0m\u001b[1;33m(\u001b[0m\u001b[0mhandler\u001b[0m\u001b[1;33m,\u001b[0m \u001b[0mmeth_name\u001b[0m\u001b[1;33m)\u001b[0m\u001b[1;33m\u001b[0m\u001b[1;33m\u001b[0m\u001b[0m\n\u001b[1;32m--> 504\u001b[1;33m             \u001b[0mresult\u001b[0m \u001b[1;33m=\u001b[0m \u001b[0mfunc\u001b[0m\u001b[1;33m(\u001b[0m\u001b[1;33m*\u001b[0m\u001b[0margs\u001b[0m\u001b[1;33m)\u001b[0m\u001b[1;33m\u001b[0m\u001b[1;33m\u001b[0m\u001b[0m\n\u001b[0m\u001b[0;32m    505\u001b[0m             \u001b[1;32mif\u001b[0m \u001b[0mresult\u001b[0m \u001b[1;32mis\u001b[0m \u001b[1;32mnot\u001b[0m \u001b[1;32mNone\u001b[0m\u001b[1;33m:\u001b[0m\u001b[1;33m\u001b[0m\u001b[1;33m\u001b[0m\u001b[0m\n\u001b[0;32m    506\u001b[0m                 \u001b[1;32mreturn\u001b[0m \u001b[0mresult\u001b[0m\u001b[1;33m\u001b[0m\u001b[1;33m\u001b[0m\u001b[0m\n",
      "\u001b[1;32mC:\\Users\\User\\anaconda3\\envs\\pythondata\\lib\\urllib\\request.py\u001b[0m in \u001b[0;36mhttp_open\u001b[1;34m(self, req)\u001b[0m\n\u001b[0;32m   1375\u001b[0m \u001b[1;33m\u001b[0m\u001b[0m\n\u001b[0;32m   1376\u001b[0m     \u001b[1;32mdef\u001b[0m \u001b[0mhttp_open\u001b[0m\u001b[1;33m(\u001b[0m\u001b[0mself\u001b[0m\u001b[1;33m,\u001b[0m \u001b[0mreq\u001b[0m\u001b[1;33m)\u001b[0m\u001b[1;33m:\u001b[0m\u001b[1;33m\u001b[0m\u001b[1;33m\u001b[0m\u001b[0m\n\u001b[1;32m-> 1377\u001b[1;33m         \u001b[1;32mreturn\u001b[0m \u001b[0mself\u001b[0m\u001b[1;33m.\u001b[0m\u001b[0mdo_open\u001b[0m\u001b[1;33m(\u001b[0m\u001b[0mhttp\u001b[0m\u001b[1;33m.\u001b[0m\u001b[0mclient\u001b[0m\u001b[1;33m.\u001b[0m\u001b[0mHTTPConnection\u001b[0m\u001b[1;33m,\u001b[0m \u001b[0mreq\u001b[0m\u001b[1;33m)\u001b[0m\u001b[1;33m\u001b[0m\u001b[1;33m\u001b[0m\u001b[0m\n\u001b[0m\u001b[0;32m   1378\u001b[0m \u001b[1;33m\u001b[0m\u001b[0m\n\u001b[0;32m   1379\u001b[0m     \u001b[0mhttp_request\u001b[0m \u001b[1;33m=\u001b[0m \u001b[0mAbstractHTTPHandler\u001b[0m\u001b[1;33m.\u001b[0m\u001b[0mdo_request_\u001b[0m\u001b[1;33m\u001b[0m\u001b[1;33m\u001b[0m\u001b[0m\n",
      "\u001b[1;32mC:\\Users\\User\\anaconda3\\envs\\pythondata\\lib\\urllib\\request.py\u001b[0m in \u001b[0;36mdo_open\u001b[1;34m(self, http_class, req, **http_conn_args)\u001b[0m\n\u001b[0;32m   1350\u001b[0m             \u001b[1;32mexcept\u001b[0m \u001b[0mOSError\u001b[0m \u001b[1;32mas\u001b[0m \u001b[0merr\u001b[0m\u001b[1;33m:\u001b[0m \u001b[1;31m# timeout error\u001b[0m\u001b[1;33m\u001b[0m\u001b[1;33m\u001b[0m\u001b[0m\n\u001b[0;32m   1351\u001b[0m                 \u001b[1;32mraise\u001b[0m \u001b[0mURLError\u001b[0m\u001b[1;33m(\u001b[0m\u001b[0merr\u001b[0m\u001b[1;33m)\u001b[0m\u001b[1;33m\u001b[0m\u001b[1;33m\u001b[0m\u001b[0m\n\u001b[1;32m-> 1352\u001b[1;33m             \u001b[0mr\u001b[0m \u001b[1;33m=\u001b[0m \u001b[0mh\u001b[0m\u001b[1;33m.\u001b[0m\u001b[0mgetresponse\u001b[0m\u001b[1;33m(\u001b[0m\u001b[1;33m)\u001b[0m\u001b[1;33m\u001b[0m\u001b[1;33m\u001b[0m\u001b[0m\n\u001b[0m\u001b[0;32m   1353\u001b[0m         \u001b[1;32mexcept\u001b[0m\u001b[1;33m:\u001b[0m\u001b[1;33m\u001b[0m\u001b[1;33m\u001b[0m\u001b[0m\n\u001b[0;32m   1354\u001b[0m             \u001b[0mh\u001b[0m\u001b[1;33m.\u001b[0m\u001b[0mclose\u001b[0m\u001b[1;33m(\u001b[0m\u001b[1;33m)\u001b[0m\u001b[1;33m\u001b[0m\u001b[1;33m\u001b[0m\u001b[0m\n",
      "\u001b[1;32mC:\\Users\\User\\anaconda3\\envs\\pythondata\\lib\\http\\client.py\u001b[0m in \u001b[0;36mgetresponse\u001b[1;34m(self)\u001b[0m\n\u001b[0;32m   1377\u001b[0m         \u001b[1;32mtry\u001b[0m\u001b[1;33m:\u001b[0m\u001b[1;33m\u001b[0m\u001b[1;33m\u001b[0m\u001b[0m\n\u001b[0;32m   1378\u001b[0m             \u001b[1;32mtry\u001b[0m\u001b[1;33m:\u001b[0m\u001b[1;33m\u001b[0m\u001b[1;33m\u001b[0m\u001b[0m\n\u001b[1;32m-> 1379\u001b[1;33m                 \u001b[0mresponse\u001b[0m\u001b[1;33m.\u001b[0m\u001b[0mbegin\u001b[0m\u001b[1;33m(\u001b[0m\u001b[1;33m)\u001b[0m\u001b[1;33m\u001b[0m\u001b[1;33m\u001b[0m\u001b[0m\n\u001b[0m\u001b[0;32m   1380\u001b[0m             \u001b[1;32mexcept\u001b[0m \u001b[0mConnectionError\u001b[0m\u001b[1;33m:\u001b[0m\u001b[1;33m\u001b[0m\u001b[1;33m\u001b[0m\u001b[0m\n\u001b[0;32m   1381\u001b[0m                 \u001b[0mself\u001b[0m\u001b[1;33m.\u001b[0m\u001b[0mclose\u001b[0m\u001b[1;33m(\u001b[0m\u001b[1;33m)\u001b[0m\u001b[1;33m\u001b[0m\u001b[1;33m\u001b[0m\u001b[0m\n",
      "\u001b[1;32mC:\\Users\\User\\anaconda3\\envs\\pythondata\\lib\\http\\client.py\u001b[0m in \u001b[0;36mbegin\u001b[1;34m(self)\u001b[0m\n\u001b[0;32m    309\u001b[0m         \u001b[1;31m# read until we get a non-100 response\u001b[0m\u001b[1;33m\u001b[0m\u001b[1;33m\u001b[0m\u001b[1;33m\u001b[0m\u001b[0m\n\u001b[0;32m    310\u001b[0m         \u001b[1;32mwhile\u001b[0m \u001b[1;32mTrue\u001b[0m\u001b[1;33m:\u001b[0m\u001b[1;33m\u001b[0m\u001b[1;33m\u001b[0m\u001b[0m\n\u001b[1;32m--> 311\u001b[1;33m             \u001b[0mversion\u001b[0m\u001b[1;33m,\u001b[0m \u001b[0mstatus\u001b[0m\u001b[1;33m,\u001b[0m \u001b[0mreason\u001b[0m \u001b[1;33m=\u001b[0m \u001b[0mself\u001b[0m\u001b[1;33m.\u001b[0m\u001b[0m_read_status\u001b[0m\u001b[1;33m(\u001b[0m\u001b[1;33m)\u001b[0m\u001b[1;33m\u001b[0m\u001b[1;33m\u001b[0m\u001b[0m\n\u001b[0m\u001b[0;32m    312\u001b[0m             \u001b[1;32mif\u001b[0m \u001b[0mstatus\u001b[0m \u001b[1;33m!=\u001b[0m \u001b[0mCONTINUE\u001b[0m\u001b[1;33m:\u001b[0m\u001b[1;33m\u001b[0m\u001b[1;33m\u001b[0m\u001b[0m\n\u001b[0;32m    313\u001b[0m                 \u001b[1;32mbreak\u001b[0m\u001b[1;33m\u001b[0m\u001b[1;33m\u001b[0m\u001b[0m\n",
      "\u001b[1;32mC:\\Users\\User\\anaconda3\\envs\\pythondata\\lib\\http\\client.py\u001b[0m in \u001b[0;36m_read_status\u001b[1;34m(self)\u001b[0m\n\u001b[0;32m    270\u001b[0m \u001b[1;33m\u001b[0m\u001b[0m\n\u001b[0;32m    271\u001b[0m     \u001b[1;32mdef\u001b[0m \u001b[0m_read_status\u001b[0m\u001b[1;33m(\u001b[0m\u001b[0mself\u001b[0m\u001b[1;33m)\u001b[0m\u001b[1;33m:\u001b[0m\u001b[1;33m\u001b[0m\u001b[1;33m\u001b[0m\u001b[0m\n\u001b[1;32m--> 272\u001b[1;33m         \u001b[0mline\u001b[0m \u001b[1;33m=\u001b[0m \u001b[0mstr\u001b[0m\u001b[1;33m(\u001b[0m\u001b[0mself\u001b[0m\u001b[1;33m.\u001b[0m\u001b[0mfp\u001b[0m\u001b[1;33m.\u001b[0m\u001b[0mreadline\u001b[0m\u001b[1;33m(\u001b[0m\u001b[0m_MAXLINE\u001b[0m \u001b[1;33m+\u001b[0m \u001b[1;36m1\u001b[0m\u001b[1;33m)\u001b[0m\u001b[1;33m,\u001b[0m \u001b[1;34m\"iso-8859-1\"\u001b[0m\u001b[1;33m)\u001b[0m\u001b[1;33m\u001b[0m\u001b[1;33m\u001b[0m\u001b[0m\n\u001b[0m\u001b[0;32m    273\u001b[0m         \u001b[1;32mif\u001b[0m \u001b[0mlen\u001b[0m\u001b[1;33m(\u001b[0m\u001b[0mline\u001b[0m\u001b[1;33m)\u001b[0m \u001b[1;33m>\u001b[0m \u001b[0m_MAXLINE\u001b[0m\u001b[1;33m:\u001b[0m\u001b[1;33m\u001b[0m\u001b[1;33m\u001b[0m\u001b[0m\n\u001b[0;32m    274\u001b[0m             \u001b[1;32mraise\u001b[0m \u001b[0mLineTooLong\u001b[0m\u001b[1;33m(\u001b[0m\u001b[1;34m\"status line\"\u001b[0m\u001b[1;33m)\u001b[0m\u001b[1;33m\u001b[0m\u001b[1;33m\u001b[0m\u001b[0m\n",
      "\u001b[1;32mC:\\Users\\User\\anaconda3\\envs\\pythondata\\lib\\socket.py\u001b[0m in \u001b[0;36mreadinto\u001b[1;34m(self, b)\u001b[0m\n\u001b[0;32m    584\u001b[0m         \u001b[1;32mwhile\u001b[0m \u001b[1;32mTrue\u001b[0m\u001b[1;33m:\u001b[0m\u001b[1;33m\u001b[0m\u001b[1;33m\u001b[0m\u001b[0m\n\u001b[0;32m    585\u001b[0m             \u001b[1;32mtry\u001b[0m\u001b[1;33m:\u001b[0m\u001b[1;33m\u001b[0m\u001b[1;33m\u001b[0m\u001b[0m\n\u001b[1;32m--> 586\u001b[1;33m                 \u001b[1;32mreturn\u001b[0m \u001b[0mself\u001b[0m\u001b[1;33m.\u001b[0m\u001b[0m_sock\u001b[0m\u001b[1;33m.\u001b[0m\u001b[0mrecv_into\u001b[0m\u001b[1;33m(\u001b[0m\u001b[0mb\u001b[0m\u001b[1;33m)\u001b[0m\u001b[1;33m\u001b[0m\u001b[1;33m\u001b[0m\u001b[0m\n\u001b[0m\u001b[0;32m    587\u001b[0m             \u001b[1;32mexcept\u001b[0m \u001b[0mtimeout\u001b[0m\u001b[1;33m:\u001b[0m\u001b[1;33m\u001b[0m\u001b[1;33m\u001b[0m\u001b[0m\n\u001b[0;32m    588\u001b[0m                 \u001b[0mself\u001b[0m\u001b[1;33m.\u001b[0m\u001b[0m_timeout_occurred\u001b[0m \u001b[1;33m=\u001b[0m \u001b[1;32mTrue\u001b[0m\u001b[1;33m\u001b[0m\u001b[1;33m\u001b[0m\u001b[0m\n",
      "\u001b[1;31mConnectionResetError\u001b[0m: [WinError 10054] An existing connection was forcibly closed by the remote host"
     ]
    }
   ],
   "source": []
  },
  {
   "cell_type": "markdown",
   "metadata": {},
   "source": [
    "## Inspect the data and remove the cities where the humidity > 100%.\n",
    "----\n",
    "Skip this step if there are no cities that have humidity > 100%. "
   ]
  },
  {
   "cell_type": "code",
   "execution_count": null,
   "metadata": {},
   "outputs": [],
   "source": []
  },
  {
   "cell_type": "code",
   "execution_count": 1,
   "metadata": {},
   "outputs": [],
   "source": [
    "#  Get the indices of cities that have humidity over 100%.\n"
   ]
  },
  {
   "cell_type": "code",
   "execution_count": 2,
   "metadata": {},
   "outputs": [],
   "source": [
    "# Make a new DataFrame equal to the city data to drop all humidity outliers by index.\n",
    "# Passing \"inplace=False\" will make a copy of the city_data DataFrame, which we call \"clean_city_data\".\n"
   ]
  },
  {
   "cell_type": "code",
   "execution_count": null,
   "metadata": {},
   "outputs": [],
   "source": [
    "\n"
   ]
  },
  {
   "cell_type": "markdown",
   "metadata": {},
   "source": [
    "## Plotting the Data\n",
    "* Use proper labeling of the plots using plot titles (including date of analysis) and axes labels.\n",
    "* Save the plotted figures as .pngs."
   ]
  },
  {
   "cell_type": "markdown",
   "metadata": {},
   "source": [
    "## Latitude vs. Temperature Plot"
   ]
  },
  {
   "cell_type": "code",
   "execution_count": 3,
   "metadata": {
    "scrolled": true
   },
   "outputs": [],
   "source": [
    "def plot_lat(y,y_label):\n",
    "    lat_y = plt.scatter(weather_df['Lat'],weather_df[y],alpha=0.75,edgecolors='black')\n",
    "    plt.title(f\"City Latitude vs. {y} ({time.strftime('%m/%d/%y')})\")\n",
    "    plt.xlabel('Latitude') \n",
    "    plt.ylabel(y_label)\n",
    "    plt.xlim(-80,100)\n",
    "    plt.ylim(min(weather_df[y])-20,max(weather_df[y])+20)\n",
    "    plt.grid()\n",
    "    plt.savefig(os.path.join('output_data',f'Latitude_vs_{y}.png'))"
   ]
  },
  {
   "cell_type": "markdown",
   "metadata": {},
   "source": [
    "## Latitude vs. Humidity Plot"
   ]
  },
  {
   "cell_type": "code",
   "execution_count": null,
   "metadata": {},
   "outputs": [],
   "source": []
  },
  {
   "cell_type": "markdown",
   "metadata": {},
   "source": [
    "## Latitude vs. Cloudiness Plot"
   ]
  },
  {
   "cell_type": "code",
   "execution_count": null,
   "metadata": {},
   "outputs": [],
   "source": []
  },
  {
   "cell_type": "markdown",
   "metadata": {},
   "source": [
    "## Latitude vs. Wind Speed Plot"
   ]
  },
  {
   "cell_type": "code",
   "execution_count": null,
   "metadata": {},
   "outputs": [],
   "source": []
  },
  {
   "cell_type": "markdown",
   "metadata": {},
   "source": [
    "## Linear Regression"
   ]
  },
  {
   "cell_type": "code",
   "execution_count": null,
   "metadata": {},
   "outputs": [],
   "source": []
  },
  {
   "cell_type": "markdown",
   "metadata": {},
   "source": [
    "####  Northern Hemisphere - Max Temp vs. Latitude Linear Regression"
   ]
  },
  {
   "cell_type": "code",
   "execution_count": null,
   "metadata": {},
   "outputs": [],
   "source": []
  },
  {
   "cell_type": "markdown",
   "metadata": {},
   "source": [
    "####  Southern Hemisphere - Max Temp vs. Latitude Linear Regression"
   ]
  },
  {
   "cell_type": "code",
   "execution_count": null,
   "metadata": {},
   "outputs": [],
   "source": []
  },
  {
   "cell_type": "markdown",
   "metadata": {},
   "source": [
    "####  Northern Hemisphere - Humidity (%) vs. Latitude Linear Regression"
   ]
  },
  {
   "cell_type": "code",
   "execution_count": null,
   "metadata": {},
   "outputs": [],
   "source": []
  },
  {
   "cell_type": "markdown",
   "metadata": {},
   "source": [
    "####  Southern Hemisphere - Humidity (%) vs. Latitude Linear Regression"
   ]
  },
  {
   "cell_type": "code",
   "execution_count": null,
   "metadata": {},
   "outputs": [],
   "source": []
  },
  {
   "cell_type": "markdown",
   "metadata": {},
   "source": [
    "####  Northern Hemisphere - Cloudiness (%) vs. Latitude Linear Regression"
   ]
  },
  {
   "cell_type": "code",
   "execution_count": null,
   "metadata": {},
   "outputs": [],
   "source": []
  },
  {
   "cell_type": "markdown",
   "metadata": {},
   "source": [
    "####  Southern Hemisphere - Cloudiness (%) vs. Latitude Linear Regression"
   ]
  },
  {
   "cell_type": "code",
   "execution_count": null,
   "metadata": {},
   "outputs": [],
   "source": []
  },
  {
   "cell_type": "markdown",
   "metadata": {},
   "source": [
    "####  Northern Hemisphere - Wind Speed (mph) vs. Latitude Linear Regression"
   ]
  },
  {
   "cell_type": "code",
   "execution_count": null,
   "metadata": {},
   "outputs": [],
   "source": []
  },
  {
   "cell_type": "markdown",
   "metadata": {},
   "source": [
    "####  Southern Hemisphere - Wind Speed (mph) vs. Latitude Linear Regression"
   ]
  },
  {
   "cell_type": "code",
   "execution_count": null,
   "metadata": {},
   "outputs": [],
   "source": []
  },
  {
   "cell_type": "code",
   "execution_count": null,
   "metadata": {},
   "outputs": [],
   "source": []
  },
  {
   "cell_type": "code",
   "execution_count": null,
   "metadata": {},
   "outputs": [],
   "source": []
  }
 ],
 "metadata": {
  "anaconda-cloud": {},
  "kernel_info": {
   "name": "python3"
  },
  "kernelspec": {
   "display_name": "Python 3",
   "language": "python",
   "name": "python3"
  },
  "language_info": {
   "codemirror_mode": {
    "name": "ipython",
    "version": 3
   },
   "file_extension": ".py",
   "mimetype": "text/x-python",
   "name": "python",
   "nbconvert_exporter": "python",
   "pygments_lexer": "ipython3",
   "version": "3.6.12"
  },
  "latex_envs": {
   "LaTeX_envs_menu_present": true,
   "autoclose": false,
   "autocomplete": true,
   "bibliofile": "biblio.bib",
   "cite_by": "apalike",
   "current_citInitial": 1,
   "eqLabelWithNumbers": true,
   "eqNumInitial": 1,
   "hotkeys": {
    "equation": "Ctrl-E",
    "itemize": "Ctrl-I"
   },
   "labels_anchors": false,
   "latex_user_defs": false,
   "report_style_numbering": false,
   "user_envs_cfg": false
  },
  "nteract": {
   "version": "0.12.3"
  }
 },
 "nbformat": 4,
 "nbformat_minor": 2
}
